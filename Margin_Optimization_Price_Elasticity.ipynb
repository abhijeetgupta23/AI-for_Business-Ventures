{
 "cells": [
  {
   "cell_type": "markdown",
   "metadata": {},
   "source": [
    "# Margin Optimization using Price Elasticity Analysis"
   ]
  },
  {
   "cell_type": "markdown",
   "metadata": {},
   "source": [
    "The goal of this project is to develop a model that can predict the optimal pricing strategy to maximize profits while considering customer behavior.\n",
    "\n",
    "Price elasticity of demand is a measure used in economics to show the responsiveness, or elasticity, of the quantity demanded of a good or service to a change in its price. It quantifies how much the quantity demanded will change when the price changes.\n",
    "\n",
    "There are a few key points to understand about price elasticity:\n",
    "\n",
    "1. Elastic Demand: If a small change in price leads to a large change in quantity demanded, the demand is said to be elastic. For example, luxury goods often have elastic demand because if prices increase, people will buy significantly less of them.\n",
    "\n",
    "2. Inelastic Demand: If a large change in price leads to only a small change in quantity demanded, the demand is inelastic. Necessities like medication or basic food items often have inelastic demand because people need them regardless of price changes.\n",
    "\n",
    "3. Unitary Elasticity: This occurs when a change in price leads to a proportional change in quantity demanded, meaning the total revenue (price times quantity) remains the same.\n",
    "\n",
    "Mathematical Formula: Price elasticity of demand is calculated as:\n",
    "\n",
    "Price Elasticity of Demand (PED) = % Change in Quantity Demanded / % Change in Price​\n",
    " \n",
    "* If the value of PED is greater than 1, demand is elastic.\n",
    "* If the value of PED is less than 1, demand is inelastic.\n",
    "* If the value of PED is exactly 1, demand has unitary elasticity.\n",
    "\n",
    "Understanding price elasticity helps businesses determine how changing prices might affect their sales and revenue. For example, if a product has elastic demand, a price increase could lead to a significant drop in sales, whereas if demand is inelastic, the company could raise prices with minimal impact on sales volume.\n",
    "\n",
    "Margin Optimization using Price Elasticity is a strategy that businesses use to maximize their profit margins by adjusting prices based on the concept of price elasticity of demand. The goal is to find the optimal price point for a product or service that maximizes profit while considering how sensitive customers are to changes in price."
   ]
  },
  {
   "cell_type": "markdown",
   "metadata": {},
   "source": [
    "# Implementation\n",
    "\n",
    "In this project, we analyze a Liquor Sales dataset to perform a Price Elasticity Analysis. Based on the elasticity findings, we identified products with elastic demand and applied Margin Optimization techniques using Linear Algebra and Calculus to maximize profitability.\n",
    "\n",
    "We use PySpark in this project because dataset is massive (20 million rows and 3.5 GB), and PySpark utilizes Distributed Computing to Hhandle Big Data in a time-efficient, fault tolerant manner"
   ]
  },
  {
   "cell_type": "code",
   "execution_count": null,
   "metadata": {},
   "outputs": [],
   "source": [
    "from pyspark.sql import SparkSession\n",
    "from pyspark.sql.functions import col, from_json\n",
    "from pyspark.sql.types import StructType, StructField, StringType, DoubleType\n",
    "\n",
    "# Create Spark session\n",
    "spark = SparkSession.builder \\\n",
    "    .config(\"spark.driver.host\", \"localhost\") \\\n",
    "    .appName(\"Liquor_Sales\") \\\n",
    "    .config(\"spark.driver.memory\", \"4g\") \\\n",
    "    .config(\"spark.executor.memory\", \"4g\") \\\n",
    "    .config(\"spark.executor.cores\", \"2\") \\\n",
    "    .master(\"local[*]\") \\\n",
    "    .getOrCreate()\n",
    "\n",
    "# Path to the CSV file\n",
    "csv_file_path = \"Liquor_Sales.csv\" \n",
    "\n",
    "# Read the CSV file\n",
    "Liquor_Sales = spark.read.csv(csv_file_path, header=True, inferSchema=True)"
   ]
  },
  {
   "cell_type": "markdown",
   "metadata": {},
   "source": [
    "# Feature Engineering"
   ]
  },
  {
   "cell_type": "markdown",
   "metadata": {},
   "source": [
    "Date conversion"
   ]
  },
  {
   "cell_type": "code",
   "execution_count": 3,
   "metadata": {},
   "outputs": [],
   "source": [
    "from pyspark.sql.functions import unix_timestamp, from_unixtime, year, month, dayofmonth, dayofweek\n",
    "\n",
    "Liquor_Sales = Liquor_Sales.withColumn(\"Date\", from_unixtime(unix_timestamp('Date', 'MM/dd/yyy')))\n",
    "Liquor_Sales = Liquor_Sales.withColumn(\"Year\", year(\"Date\").alias('year'))\n",
    "Liquor_Sales = Liquor_Sales.withColumn(\"Month\", month(\"Date\").alias('month'))\n",
    "Liquor_Sales = Liquor_Sales.withColumn(\"Day_of_month\", dayofmonth(\"Date\").alias('day'))\n",
    "Liquor_Sales = Liquor_Sales.withColumn(\"Day_of_week\", dayofweek(\"Date\").alias('day'))"
   ]
  },
  {
   "cell_type": "code",
   "execution_count": null,
   "metadata": {},
   "outputs": [],
   "source": [
    "# Removing rows with any missing values.\n",
    "\n",
    "Liquor_Sales = Liquor_Sales.na.drop(how=\"any\")"
   ]
  },
  {
   "cell_type": "markdown",
   "metadata": {},
   "source": [
    "Business Metrics Creation "
   ]
  },
  {
   "cell_type": "code",
   "execution_count": 5,
   "metadata": {},
   "outputs": [],
   "source": [
    "from pyspark.sql.functions import col,concat,lit\n",
    "import pyspark.sql.functions as func\n",
    "\n",
    "# Cost and Profit Metrics\n",
    "Liquor_Sales = Liquor_Sales.withColumn(\"Category Name - Number\", concat(col(\"Category Name\"),lit(\" - \"),col(\"Category\")))\n",
    "Liquor_Sales = Liquor_Sales.withColumn(\"State Bottle Profit\", col(\"State Bottle Retail\") - col(\"State Bottle Cost\"))\n",
    "Liquor_Sales = Liquor_Sales.withColumn(\"Cost (Dollars)\", func.round(col(\"State Bottle Cost\") * col(\"Bottles Sold\"),2))\n",
    "Liquor_Sales = Liquor_Sales.withColumn(\"Profit (Dollars)\", col(\"State Bottle Profit\") * col(\"Bottles Sold\"))"
   ]
  },
  {
   "cell_type": "code",
   "execution_count": 6,
   "metadata": {},
   "outputs": [],
   "source": [
    "from pyspark.sql import functions as F"
   ]
  },
  {
   "cell_type": "code",
   "execution_count": 7,
   "metadata": {},
   "outputs": [],
   "source": [
    "Price_Elasticity_raw = Liquor_Sales[\"Invoice/Item Number\",\"Date\",\"Vendor Name\",\"Category\",\"Category Name\",\"Item Number\",\"Item Description\",\"State Bottle Retail\",\"Bottles Sold\",\"State Bottle Cost\"]\\\n",
    ".sort(\"Date\")"
   ]
  },
  {
   "cell_type": "code",
   "execution_count": 8,
   "metadata": {},
   "outputs": [],
   "source": [
    "Price_Elasticity_raw = Price_Elasticity_raw.filter(col(\"Date\")>=\"2015-01-02 00:00:00\")"
   ]
  },
  {
   "cell_type": "markdown",
   "metadata": {},
   "source": [
    "Item selection"
   ]
  },
  {
   "cell_type": "code",
   "execution_count": 9,
   "metadata": {},
   "outputs": [],
   "source": [
    "Item_Description = \"Blue Ox Gin\""
   ]
  },
  {
   "cell_type": "code",
   "execution_count": 41,
   "metadata": {},
   "outputs": [],
   "source": [
    "from pyspark.sql.functions import col\n",
    "\n",
    "Price_Elasticity = Price_Elasticity_raw.filter((col(\"Item Description\")==Item_Description))\\\n",
    ".groupby(\"State Bottle Retail\",\"State Bottle Cost\")\\\n",
    ".agg(\n",
    "    F.median(\"Bottles Sold\")\n",
    ")\\\n",
    ".select(\n",
    "        col(\"State Bottle Retail\").alias(\"Price\"),\n",
    "        col(\"State Bottle Cost\").alias(\"Cost\"),\n",
    "        col(\"median(Bottles Sold)\").alias(\"Sales per Day\"),\n",
    "    )\\\n",
    ".sort(\"Price\")"
   ]
  },
  {
   "cell_type": "code",
   "execution_count": 42,
   "metadata": {},
   "outputs": [
    {
     "data": {
      "text/html": [
       "<div>\n",
       "<style scoped>\n",
       "    .dataframe tbody tr th:only-of-type {\n",
       "        vertical-align: middle;\n",
       "    }\n",
       "\n",
       "    .dataframe tbody tr th {\n",
       "        vertical-align: top;\n",
       "    }\n",
       "\n",
       "    .dataframe thead th {\n",
       "        text-align: right;\n",
       "    }\n",
       "</style>\n",
       "<table border=\"1\" class=\"dataframe\">\n",
       "  <thead>\n",
       "    <tr style=\"text-align: right;\">\n",
       "      <th></th>\n",
       "      <th>Price</th>\n",
       "      <th>Cost</th>\n",
       "      <th>Sales per Day</th>\n",
       "      <th>Margin</th>\n",
       "    </tr>\n",
       "  </thead>\n",
       "  <tbody>\n",
       "    <tr>\n",
       "      <th>0</th>\n",
       "      <td>4.50</td>\n",
       "      <td>3.00</td>\n",
       "      <td>12.0</td>\n",
       "      <td>18.00</td>\n",
       "    </tr>\n",
       "    <tr>\n",
       "      <th>1</th>\n",
       "      <td>4.80</td>\n",
       "      <td>3.20</td>\n",
       "      <td>12.0</td>\n",
       "      <td>19.20</td>\n",
       "    </tr>\n",
       "    <tr>\n",
       "      <th>2</th>\n",
       "      <td>4.95</td>\n",
       "      <td>3.30</td>\n",
       "      <td>12.0</td>\n",
       "      <td>19.80</td>\n",
       "    </tr>\n",
       "    <tr>\n",
       "      <th>3</th>\n",
       "      <td>5.25</td>\n",
       "      <td>3.50</td>\n",
       "      <td>12.0</td>\n",
       "      <td>21.00</td>\n",
       "    </tr>\n",
       "    <tr>\n",
       "      <th>4</th>\n",
       "      <td>5.55</td>\n",
       "      <td>3.70</td>\n",
       "      <td>12.0</td>\n",
       "      <td>22.20</td>\n",
       "    </tr>\n",
       "    <tr>\n",
       "      <th>5</th>\n",
       "      <td>5.78</td>\n",
       "      <td>3.85</td>\n",
       "      <td>12.0</td>\n",
       "      <td>23.16</td>\n",
       "    </tr>\n",
       "    <tr>\n",
       "      <th>6</th>\n",
       "      <td>5.93</td>\n",
       "      <td>3.95</td>\n",
       "      <td>12.0</td>\n",
       "      <td>23.76</td>\n",
       "    </tr>\n",
       "    <tr>\n",
       "      <th>7</th>\n",
       "      <td>6.00</td>\n",
       "      <td>4.00</td>\n",
       "      <td>12.0</td>\n",
       "      <td>24.00</td>\n",
       "    </tr>\n",
       "    <tr>\n",
       "      <th>8</th>\n",
       "      <td>9.75</td>\n",
       "      <td>6.50</td>\n",
       "      <td>6.0</td>\n",
       "      <td>19.50</td>\n",
       "    </tr>\n",
       "    <tr>\n",
       "      <th>9</th>\n",
       "      <td>9.98</td>\n",
       "      <td>6.65</td>\n",
       "      <td>6.0</td>\n",
       "      <td>19.98</td>\n",
       "    </tr>\n",
       "    <tr>\n",
       "      <th>10</th>\n",
       "      <td>10.50</td>\n",
       "      <td>7.00</td>\n",
       "      <td>6.0</td>\n",
       "      <td>21.00</td>\n",
       "    </tr>\n",
       "  </tbody>\n",
       "</table>\n",
       "</div>"
      ],
      "text/plain": [
       "    Price  Cost  Sales per Day  Margin\n",
       "0    4.50  3.00           12.0   18.00\n",
       "1    4.80  3.20           12.0   19.20\n",
       "2    4.95  3.30           12.0   19.80\n",
       "3    5.25  3.50           12.0   21.00\n",
       "4    5.55  3.70           12.0   22.20\n",
       "5    5.78  3.85           12.0   23.16\n",
       "6    5.93  3.95           12.0   23.76\n",
       "7    6.00  4.00           12.0   24.00\n",
       "8    9.75  6.50            6.0   19.50\n",
       "9    9.98  6.65            6.0   19.98\n",
       "10  10.50  7.00            6.0   21.00"
      ]
     },
     "execution_count": 42,
     "metadata": {},
     "output_type": "execute_result"
    }
   ],
   "source": [
    "# Price_Elasticity = Price_Elasticity.withColumn(\"Month\", month(\"Date\").alias('month'))\n",
    "# Price_Elasticity = Price_Elasticity.withColumn(\"Day_of_week\", dayofweek(\"Date\").alias('day'))\n",
    "\n",
    "Price_Elasticity_df = Price_Elasticity.toPandas()\n",
    "\n",
    "Price_Elasticity_df = Price_Elasticity_df.dropna()\n",
    "Price_Elasticity_df['Margin'] = (Price_Elasticity_df['Price'] - Price_Elasticity_df['Cost']) * Price_Elasticity_df['Sales per Day']\n",
    "Price_Elasticity_df"
   ]
  },
  {
   "cell_type": "code",
   "execution_count": 12,
   "metadata": {},
   "outputs": [
    {
     "data": {
      "text/html": [
       "<div>\n",
       "<style scoped>\n",
       "    .dataframe tbody tr th:only-of-type {\n",
       "        vertical-align: middle;\n",
       "    }\n",
       "\n",
       "    .dataframe tbody tr th {\n",
       "        vertical-align: top;\n",
       "    }\n",
       "\n",
       "    .dataframe thead th {\n",
       "        text-align: right;\n",
       "    }\n",
       "</style>\n",
       "<table border=\"1\" class=\"dataframe\">\n",
       "  <thead>\n",
       "    <tr style=\"text-align: right;\">\n",
       "      <th></th>\n",
       "      <th>Price</th>\n",
       "      <th>Sales per Day</th>\n",
       "    </tr>\n",
       "  </thead>\n",
       "  <tbody>\n",
       "    <tr>\n",
       "      <th>Price</th>\n",
       "      <td>1.000000</td>\n",
       "      <td>-0.975601</td>\n",
       "    </tr>\n",
       "    <tr>\n",
       "      <th>Sales per Day</th>\n",
       "      <td>-0.975601</td>\n",
       "      <td>1.000000</td>\n",
       "    </tr>\n",
       "  </tbody>\n",
       "</table>\n",
       "</div>"
      ],
      "text/plain": [
       "                  Price  Sales per Day\n",
       "Price          1.000000      -0.975601\n",
       "Sales per Day -0.975601       1.000000"
      ]
     },
     "execution_count": 12,
     "metadata": {},
     "output_type": "execute_result"
    }
   ],
   "source": [
    "Price_Elasticity_df.corr()"
   ]
  },
  {
   "cell_type": "markdown",
   "metadata": {},
   "source": [
    "Since Price and Sales both have variability, we can model Price Elasticty"
   ]
  },
  {
   "cell_type": "markdown",
   "metadata": {},
   "source": [
    "### Save till here to Feature Store "
   ]
  },
  {
   "cell_type": "markdown",
   "metadata": {},
   "source": [
    "# Price Elasticity Modelling"
   ]
  },
  {
   "cell_type": "markdown",
   "metadata": {},
   "source": [
    "### Statistical Modelling using Linear Regression "
   ]
  },
  {
   "cell_type": "code",
   "execution_count": 35,
   "metadata": {},
   "outputs": [
    {
     "name": "stdout",
     "output_type": "stream",
     "text": [
      "Coefficients: -1.2069282528129952\n",
      "Intercept: 18.372153924801864\n",
      "Root Mean Sqaured Percentage Error : 0.05878952944275778\n",
      "Mean Absolute Percentage Error : 0.05304895858524771\n",
      "R^2 Score: 0.9517970304822482\n"
     ]
    },
    {
     "data": {
      "image/png": "[encoded data removed]",
      "text/plain": [
       "<Figure size 640x480 with 1 Axes>"
      ]
     },
     "metadata": {},
     "output_type": "display_data"
    }
   ],
   "source": [
    "import numpy as np\n",
    "import matplotlib.pyplot as plt\n",
    "from sklearn.model_selection import train_test_split\n",
    "from sklearn.linear_model import LinearRegression\n",
    "import xgboost as xgb\n",
    "from sklearn.metrics import mean_squared_error, mean_absolute_percentage_error, median_absolute_error,r2_score\n",
    "\n",
    "# Split the data into training and testing sets\n",
    "#X_train, X_test, y_train, y_test = train_test_split(Price_Elasticity_df.drop(['Sales per Day'],axis=1), Price_Elasticity_df['Sales per Day'], test_size=0.1, random_state=42)\n",
    "\n",
    "X, y = Price_Elasticity_df.drop(['Sales per Day'],axis=1), Price_Elasticity_df['Sales per Day']\n",
    "\n",
    "# Create a linear regression model\n",
    "model = LinearRegression()\n",
    "\n",
    "# Train the model using the training data\n",
    "model.fit(X, y)\n",
    "\n",
    "# Make predictions using the testing data\n",
    "#y_pred_train = model.predict(X_train)\n",
    "\n",
    "# Make predictions using the testing data\n",
    "y_pred = model.predict(X)\n",
    "\n",
    "# Print the coefficients\n",
    "print(\"Coefficients:\", model.coef_[0])\n",
    "print(\"Intercept:\", model.intercept_)\n",
    "\n",
    "# Calculate and print the mean squared error\n",
    "#mape = np.sqrt(np.mean(np.square((y_pred_train - y_train)/y_train)))\n",
    "#print(\"Mean Absolute Percentage Error (Train) :\", mape)\n",
    "\n",
    "# Calculate and print the mean squared error\n",
    "#mape = np.sqrt(np.mean(np.square((y_pred - y_test)/y_test)))\n",
    "#print(\"Mean Absolute Percentage Error (Test) :\", mape)\n",
    "\n",
    "# Calculate and print the mean squared error\n",
    "rmspe = np.sqrt(np.mean(np.square((y_pred - y)/y)))\n",
    "print(\"Root Mean Sqaured Percentage Error :\", rmspe)\n",
    "\n",
    "# Calculate and print the mean squared error\n",
    "mape = np.mean(np.abs((y_pred - y)/y))\n",
    "print(\"Mean Absolute Percentage Error :\", mape)\n",
    "\n",
    "# Calculate and print the R^2 score\n",
    "r2 = r2_score(y, y_pred)\n",
    "print(\"R^2 Score:\", r2)\n",
    "\n",
    "# Plot the results\n",
    "plt.scatter(X['Price'], y, color='black', label='Actual data')\n",
    "\n",
    "# Plot the regression line using the coefficients and intercept\n",
    "X_range = np.linspace(X['Price'].min(), X['Price'].max(), 100).reshape(-1, 1)\n",
    "y_range = model.coef_[0] * X_range + model.intercept_\n",
    "plt.plot(X_range, y_range, color='blue', linewidth=3, label='Regression line')\n",
    "\n",
    "plt.xlabel('Price')\n",
    "plt.ylabel('Unit Sales')\n",
    "plt.title('Price vs Unit Sales correlation')\n",
    "plt.legend()\n",
    "plt.show()"
   ]
  },
  {
   "cell_type": "code",
   "execution_count": 14,
   "metadata": {},
   "outputs": [
    {
     "name": "stdout",
     "output_type": "stream",
     "text": [
      "                            OLS Regression Results                            \n",
      "==============================================================================\n",
      "Dep. Variable:          Sales per Day   R-squared:                       0.952\n",
      "Model:                            OLS   Adj. R-squared:                  0.946\n",
      "Method:                 Least Squares   F-statistic:                     177.7\n",
      "Date:                Mon, 12 Aug 2024   Prob (F-statistic):           3.13e-07\n",
      "Time:                        12:06:17   Log-Likelihood:                -9.7423\n",
      "No. Observations:                  11   AIC:                             23.48\n",
      "Df Residuals:                       9   BIC:                             24.28\n",
      "Df Model:                           1                                         \n",
      "Covariance Type:            nonrobust                                         \n",
      "==============================================================================\n",
      "                 coef    std err          t      P>|t|      [0.025      0.975]\n",
      "------------------------------------------------------------------------------\n",
      "const         18.3722      0.632     29.080      0.000      16.943      19.801\n",
      "Price         -1.2069      0.091    -13.331      0.000      -1.412      -1.002\n",
      "==============================================================================\n",
      "Omnibus:                        1.808   Durbin-Watson:                   0.842\n",
      "Prob(Omnibus):                  0.405   Jarque-Bera (JB):                0.819\n",
      "Skew:                           0.035   Prob(JB):                        0.664\n",
      "Kurtosis:                       1.665   Cond. No.                         23.0\n",
      "==============================================================================\n",
      "\n",
      "Notes:\n",
      "[1] Standard Errors assume that the covariance matrix of the errors is correctly specified.\n",
      "P-values:\n",
      " const    3.278833e-10\n",
      "Price    3.128660e-07\n",
      "dtype: float64\n"
     ]
    },
    {
     "name": "stderr",
     "output_type": "stream",
     "text": [
      "C:\\Users\\abhij\\AppData\\Local\\Packages\\PythonSoftwareFoundation.Python.3.11_qbz5n2kfra8p0\\LocalCache\\local-packages\\Python311\\site-packages\\scipy\\stats\\_stats_py.py:1971: UserWarning: kurtosistest only valid for n>=20 ... continuing anyway, n=11\n",
      "  k, _ = kurtosistest(a, axis)\n"
     ]
    }
   ],
   "source": [
    "import statsmodels.api as sm\n",
    "import numpy as np\n",
    "import pandas as pd\n",
    "\n",
    "X, y = Price_Elasticity_df.drop(['Sales per Day'],axis=1), Price_Elasticity_df['Sales per Day']\n",
    "\n",
    "# Fit the regression model\n",
    "model = sm.OLS(y, sm.add_constant(X))\n",
    "results = model.fit()\n",
    "\n",
    "# Print the summary which includes the p-values\n",
    "print(results.summary())\n",
    "\n",
    "# Get p-values directly\n",
    "p_values = results.pvalues\n",
    "print(\"P-values:\\n\", p_values)"
   ]
  },
  {
   "cell_type": "markdown",
   "metadata": {},
   "source": [
    "### Margin Optimizer Design"
   ]
  },
  {
   "cell_type": "markdown",
   "metadata": {},
   "source": [
    "Sales = coeff * Price + intercept -> y = mx + c1\n",
    "\n",
    "Total Margin = M = Sales * (Price - Cost) = y * (x - C2) = (mx + c1) * (x - c2) : \n",
    "\n",
    "M = (mx + c1) * (x - c2)\n",
    "\n",
    "M = mx^2 + c1x - mC2x - c1C2\n",
    "\n",
    "//\n",
    "\n",
    "Differential calculus with Price (x) w.r.t Margin (M) : \n",
    "\n",
    "M' = 2mx + (c1 - mC)\n",
    "\n",
    "To find maxima, we equate it to 0 : \n",
    "\n",
    "M' = 2mx + (c1 - mC) = 0 \n",
    "-> (mC - c1) = 2mx ->\n",
    "x = (mC - c1)/2m\n",
    "\n",
    "Thus optimal price point to maxize margin = (coeff * Cost - Intercept)/(2*coeff)"
   ]
  },
  {
   "cell_type": "code",
   "execution_count": null,
   "metadata": {},
   "outputs": [
    {
     "data": {
      "text/html": [
       "<div>\n",
       "<style scoped>\n",
       "    .dataframe tbody tr th:only-of-type {\n",
       "        vertical-align: middle;\n",
       "    }\n",
       "\n",
       "    .dataframe tbody tr th {\n",
       "        vertical-align: top;\n",
       "    }\n",
       "\n",
       "    .dataframe thead th {\n",
       "        text-align: right;\n",
       "    }\n",
       "</style>\n",
       "<table border=\"1\" class=\"dataframe\">\n",
       "  <thead>\n",
       "    <tr style=\"text-align: right;\">\n",
       "      <th></th>\n",
       "      <th>Invoice/Item Number</th>\n",
       "      <th>Date</th>\n",
       "      <th>Vendor Name</th>\n",
       "      <th>Category</th>\n",
       "      <th>Category Name</th>\n",
       "      <th>Item Number</th>\n",
       "      <th>Item Description</th>\n",
       "      <th>State Bottle Retail</th>\n",
       "      <th>Bottles Sold</th>\n",
       "      <th>State Bottle Cost</th>\n",
       "    </tr>\n",
       "  </thead>\n",
       "  <tbody>\n",
       "    <tr>\n",
       "      <th>0</th>\n",
       "      <td>INV-11840400034</td>\n",
       "      <td>2018-05-02 00:00:00</td>\n",
       "      <td>DEHNER DISTILLERY</td>\n",
       "      <td>1041100</td>\n",
       "      <td>American Dry Gins</td>\n",
       "      <td>29423</td>\n",
       "      <td>Blue Ox Gin</td>\n",
       "      <td>9.75</td>\n",
       "      <td>6</td>\n",
       "      <td>6.5</td>\n",
       "    </tr>\n",
       "    <tr>\n",
       "      <th>1</th>\n",
       "      <td>INV-11869000096</td>\n",
       "      <td>2018-05-03 00:00:00</td>\n",
       "      <td>DEHNER DISTILLERY</td>\n",
       "      <td>1041100</td>\n",
       "      <td>American Dry Gins</td>\n",
       "      <td>29422</td>\n",
       "      <td>Blue Ox Gin</td>\n",
       "      <td>5.25</td>\n",
       "      <td>2</td>\n",
       "      <td>3.5</td>\n",
       "    </tr>\n",
       "    <tr>\n",
       "      <th>2</th>\n",
       "      <td>INV-11916900007</td>\n",
       "      <td>2018-05-07 00:00:00</td>\n",
       "      <td>DEHNER DISTILLERY</td>\n",
       "      <td>1041100</td>\n",
       "      <td>American Dry Gins</td>\n",
       "      <td>29421</td>\n",
       "      <td>Blue Ox Gin</td>\n",
       "      <td>4.50</td>\n",
       "      <td>12</td>\n",
       "      <td>3.0</td>\n",
       "    </tr>\n",
       "    <tr>\n",
       "      <th>3</th>\n",
       "      <td>INV-11931700004</td>\n",
       "      <td>2018-05-07 00:00:00</td>\n",
       "      <td>DEHNER DISTILLERY</td>\n",
       "      <td>1041100</td>\n",
       "      <td>American Dry Gins</td>\n",
       "      <td>29422</td>\n",
       "      <td>Blue Ox Gin</td>\n",
       "      <td>5.25</td>\n",
       "      <td>12</td>\n",
       "      <td>3.5</td>\n",
       "    </tr>\n",
       "    <tr>\n",
       "      <th>4</th>\n",
       "      <td>INV-11952600030</td>\n",
       "      <td>2018-05-08 00:00:00</td>\n",
       "      <td>DEHNER DISTILLERY</td>\n",
       "      <td>1041100</td>\n",
       "      <td>American Dry Gins</td>\n",
       "      <td>29421</td>\n",
       "      <td>Blue Ox Gin</td>\n",
       "      <td>4.50</td>\n",
       "      <td>3</td>\n",
       "      <td>3.0</td>\n",
       "    </tr>\n",
       "    <tr>\n",
       "      <th>...</th>\n",
       "      <td>...</td>\n",
       "      <td>...</td>\n",
       "      <td>...</td>\n",
       "      <td>...</td>\n",
       "      <td>...</td>\n",
       "      <td>...</td>\n",
       "      <td>...</td>\n",
       "      <td>...</td>\n",
       "      <td>...</td>\n",
       "      <td>...</td>\n",
       "    </tr>\n",
       "    <tr>\n",
       "      <th>1006</th>\n",
       "      <td>INV-30525500022</td>\n",
       "      <td>2020-09-25 00:00:00</td>\n",
       "      <td>JDSO INC / Red Boot Distillery</td>\n",
       "      <td>1041100</td>\n",
       "      <td>American Dry Gins</td>\n",
       "      <td>29421</td>\n",
       "      <td>Blue Ox Gin</td>\n",
       "      <td>5.25</td>\n",
       "      <td>12</td>\n",
       "      <td>3.5</td>\n",
       "    </tr>\n",
       "    <tr>\n",
       "      <th>1007</th>\n",
       "      <td>INV-30648600018</td>\n",
       "      <td>2020-09-30 00:00:00</td>\n",
       "      <td>JDSO INC / Red Boot Distillery</td>\n",
       "      <td>1041100</td>\n",
       "      <td>American Dry Gins</td>\n",
       "      <td>29423</td>\n",
       "      <td>Blue Ox Gin</td>\n",
       "      <td>10.50</td>\n",
       "      <td>6</td>\n",
       "      <td>7.0</td>\n",
       "    </tr>\n",
       "    <tr>\n",
       "      <th>1008</th>\n",
       "      <td>INV-30650900010</td>\n",
       "      <td>2020-09-30 00:00:00</td>\n",
       "      <td>JDSO INC / Red Boot Distillery</td>\n",
       "      <td>1041100</td>\n",
       "      <td>American Dry Gins</td>\n",
       "      <td>29421</td>\n",
       "      <td>Blue Ox Gin</td>\n",
       "      <td>5.25</td>\n",
       "      <td>2</td>\n",
       "      <td>3.5</td>\n",
       "    </tr>\n",
       "    <tr>\n",
       "      <th>1009</th>\n",
       "      <td>INV-30666300021</td>\n",
       "      <td>2020-09-30 00:00:00</td>\n",
       "      <td>JDSO INC / Red Boot Distillery</td>\n",
       "      <td>1041100</td>\n",
       "      <td>American Dry Gins</td>\n",
       "      <td>29422</td>\n",
       "      <td>Blue Ox Gin</td>\n",
       "      <td>6.00</td>\n",
       "      <td>12</td>\n",
       "      <td>4.0</td>\n",
       "    </tr>\n",
       "    <tr>\n",
       "      <th>1010</th>\n",
       "      <td>INV-30667700047</td>\n",
       "      <td>2020-09-30 00:00:00</td>\n",
       "      <td>JDSO INC / Red Boot Distillery</td>\n",
       "      <td>1041100</td>\n",
       "      <td>American Dry Gins</td>\n",
       "      <td>29422</td>\n",
       "      <td>Blue Ox Gin</td>\n",
       "      <td>6.00</td>\n",
       "      <td>12</td>\n",
       "      <td>4.0</td>\n",
       "    </tr>\n",
       "  </tbody>\n",
       "</table>\n",
       "<p>1011 rows × 10 columns</p>\n",
       "</div>"
      ],
      "text/plain": [
       "     Invoice/Item Number                 Date                     Vendor Name  \\\n",
       "0        INV-11840400034  2018-05-02 00:00:00               DEHNER DISTILLERY   \n",
       "1        INV-11869000096  2018-05-03 00:00:00               DEHNER DISTILLERY   \n",
       "2        INV-11916900007  2018-05-07 00:00:00               DEHNER DISTILLERY   \n",
       "3        INV-11931700004  2018-05-07 00:00:00               DEHNER DISTILLERY   \n",
       "4        INV-11952600030  2018-05-08 00:00:00               DEHNER DISTILLERY   \n",
       "...                  ...                  ...                             ...   \n",
       "1006     INV-30525500022  2020-09-25 00:00:00  JDSO INC / Red Boot Distillery   \n",
       "1007     INV-30648600018  2020-09-30 00:00:00  JDSO INC / Red Boot Distillery   \n",
       "1008     INV-30650900010  2020-09-30 00:00:00  JDSO INC / Red Boot Distillery   \n",
       "1009     INV-30666300021  2020-09-30 00:00:00  JDSO INC / Red Boot Distillery   \n",
       "1010     INV-30667700047  2020-09-30 00:00:00  JDSO INC / Red Boot Distillery   \n",
       "\n",
       "      Category      Category Name Item Number Item Description  \\\n",
       "0      1041100  American Dry Gins       29423      Blue Ox Gin   \n",
       "1      1041100  American Dry Gins       29422      Blue Ox Gin   \n",
       "2      1041100  American Dry Gins       29421      Blue Ox Gin   \n",
       "3      1041100  American Dry Gins       29422      Blue Ox Gin   \n",
       "4      1041100  American Dry Gins       29421      Blue Ox Gin   \n",
       "...        ...                ...         ...              ...   \n",
       "1006   1041100  American Dry Gins       29421      Blue Ox Gin   \n",
       "1007   1041100  American Dry Gins       29423      Blue Ox Gin   \n",
       "1008   1041100  American Dry Gins       29421      Blue Ox Gin   \n",
       "1009   1041100  American Dry Gins       29422      Blue Ox Gin   \n",
       "1010   1041100  American Dry Gins       29422      Blue Ox Gin   \n",
       "\n",
       "      State Bottle Retail  Bottles Sold  State Bottle Cost  \n",
       "0                    9.75             6                6.5  \n",
       "1                    5.25             2                3.5  \n",
       "2                    4.50            12                3.0  \n",
       "3                    5.25            12                3.5  \n",
       "4                    4.50             3                3.0  \n",
       "...                   ...           ...                ...  \n",
       "1006                 5.25            12                3.5  \n",
       "1007                10.50             6                7.0  \n",
       "1008                 5.25             2                3.5  \n",
       "1009                 6.00            12                4.0  \n",
       "1010                 6.00            12                4.0  \n",
       "\n",
       "[1011 rows x 10 columns]"
      ]
     },
     "execution_count": 15,
     "metadata": {},
     "output_type": "execute_result"
    }
   ],
   "source": [
    "Dynamic_Pricing  = Price_Elasticity_raw_2019_20.filter((col(\"Item Description\")==Item_Description)).sort(\"Date\",\"Invoice/Item Number\").toPandas()\n",
    "Dynamic_Pricing"
   ]
  },
  {
   "cell_type": "code",
   "execution_count": 16,
   "metadata": {},
   "outputs": [
    {
     "data": {
      "text/plain": [
       "4.0"
      ]
     },
     "execution_count": 16,
     "metadata": {},
     "output_type": "execute_result"
    }
   ],
   "source": [
    "cost = Dynamic_Pricing['State Bottle Cost'].iloc[-1]\n",
    "cost"
   ]
  },
  {
   "cell_type": "code",
   "execution_count": 17,
   "metadata": {},
   "outputs": [
    {
     "data": {
      "text/plain": [
       "6.0"
      ]
     },
     "execution_count": 17,
     "metadata": {},
     "output_type": "execute_result"
    }
   ],
   "source": [
    "Current_Price = Dynamic_Pricing['State Bottle Retail'].iloc[-1]\n",
    "Current_Price"
   ]
  },
  {
   "cell_type": "code",
   "execution_count": 18,
   "metadata": {},
   "outputs": [
    {
     "data": {
      "text/plain": [
       "9.611120993307498"
      ]
     },
     "execution_count": 18,
     "metadata": {},
     "output_type": "execute_result"
    }
   ],
   "source": [
    "Optimal_Price = (results.params[1]*cost - results.params[0])/(2*results.params[1])\n",
    "Optimal_Price"
   ]
  },
  {
   "cell_type": "code",
   "execution_count": 19,
   "metadata": {},
   "outputs": [
    {
     "data": {
      "text/plain": [
       "12"
      ]
     },
     "execution_count": 19,
     "metadata": {},
     "output_type": "execute_result"
    }
   ],
   "source": [
    "Current_Sales = Dynamic_Pricing['Bottles Sold'].iloc[-1]\n",
    "Current_Sales"
   ]
  },
  {
   "cell_type": "code",
   "execution_count": 20,
   "metadata": {},
   "outputs": [
    {
     "data": {
      "text/plain": [
       "6.772220456774939"
      ]
     },
     "execution_count": 20,
     "metadata": {},
     "output_type": "execute_result"
    }
   ],
   "source": [
    "Optimal_Sales = results.params[1]* Optimal_Price + results.params[0]\n",
    "Optimal_Sales"
   ]
  },
  {
   "cell_type": "code",
   "execution_count": 21,
   "metadata": {},
   "outputs": [
    {
     "data": {
      "text/plain": [
       "24.0"
      ]
     },
     "execution_count": 21,
     "metadata": {},
     "output_type": "execute_result"
    }
   ],
   "source": [
    "Current_Margin = ((Current_Price - cost)*Current_Sales)\n",
    "Current_Margin"
   ]
  },
  {
   "cell_type": "code",
   "execution_count": 22,
   "metadata": {},
   "outputs": [
    {
     "data": {
      "text/plain": [
       "37.999748376316354"
      ]
     },
     "execution_count": 22,
     "metadata": {},
     "output_type": "execute_result"
    }
   ],
   "source": [
    "Optimal_Margin = ((Optimal_Price - cost)*Optimal_Sales)\n",
    "Optimal_Margin"
   ]
  },
  {
   "cell_type": "code",
   "execution_count": 32,
   "metadata": {},
   "outputs": [
    {
     "data": {
      "image/png": "[encoded data removed]",
      "text/plain": [
       "<Figure size 800x600 with 1 Axes>"
      ]
     },
     "metadata": {},
     "output_type": "display_data"
    }
   ],
   "source": [
    "import numpy as np\n",
    "import matplotlib.pyplot as plt\n",
    "\n",
    "# Define the parabolic function\n",
    "def parabolic_function(x,m,c1,C2):\n",
    "    return (m*(x**2) + c1*x - m*C2*x - c1*C2)\n",
    "\n",
    "# Generate x values\n",
    "x = np.linspace(0, Optimal_Price*2, 400)\n",
    "\n",
    "# Compute y values\n",
    "y = parabolic_function(x,results.params[1],results.params[0],cost)\n",
    "\n",
    "# Create the plot\n",
    "plt.figure(figsize=(8, 6))\n",
    "plt.plot(x, y)\n",
    "plt.title('Price Vs Margin Optimization Plot')\n",
    "plt.xlabel('Price per unit')\n",
    "plt.ylabel('Margin')\n",
    "plt.axhline(0, color='black',linewidth=0.5)\n",
    "plt.axvline(0, color='black',linewidth=0.5)\n",
    "plt.grid(color = 'gray', linestyle = '--', linewidth = 0.5)\n",
    "\n",
    "plt.scatter(Current_Price,Current_Margin,label=\"Current (Price,Margin)\",color='orange')\n",
    "plt.text(Current_Price, Current_Margin, f'({round(Current_Price,2)}, {int(round(Current_Margin,0))})', fontsize=12)\n",
    "\n",
    "Optimal_Margin = parabolic_function(Optimal_Price,results.params[1],results.params[0],cost)\n",
    "plt.scatter(Optimal_Price,Optimal_Margin,label=\"Optimal (Price,Margin)\",color='green')\n",
    "plt.text(Optimal_Price, Optimal_Margin, f'({round(Optimal_Price,2)}, {int(round(Optimal_Margin,0))})', fontsize=12)\n",
    "\n",
    "plt.axhline(Current_Margin, color='orange',linewidth=0.5)\n",
    "plt.axvline(Current_Price, color='orange',linewidth=0.5)\n",
    "\n",
    "plt.axhline(Optimal_Margin, color='green',linewidth=0.5)\n",
    "plt.axvline(Optimal_Price, color='green',linewidth=0.5)\n",
    "\n",
    "\n",
    "plt.xlim(left=0) \n",
    "plt.ylim(bottom=0) \n",
    "\n",
    "\n",
    "plt.legend()\n",
    "plt.show()\n"
   ]
  },
  {
   "cell_type": "markdown",
   "metadata": {},
   "source": [
    "Thus, 9.61 is the optimal price point for optimal margin. \n",
    "\n",
    "Lets compare it with observed margins for the same product, at same cost"
   ]
  },
  {
   "cell_type": "code",
   "execution_count": null,
   "metadata": {},
   "outputs": [],
   "source": [
    "Real_Observation_with_Optimal_Price_for_same_cost = \\\n",
    "Dynamic_Pricing[Dynamic_Pricing[\"State Bottle Cost\"] == cost] \\\n",
    "[[\"Date\",\"State Bottle Retail\",\"State Bottle Cost\",\"Bottles Sold\"]]"
   ]
  },
  {
   "cell_type": "code",
   "execution_count": 25,
   "metadata": {},
   "outputs": [
    {
     "data": {
      "text/html": [
       "<div>\n",
       "<style scoped>\n",
       "    .dataframe tbody tr th:only-of-type {\n",
       "        vertical-align: middle;\n",
       "    }\n",
       "\n",
       "    .dataframe tbody tr th {\n",
       "        vertical-align: top;\n",
       "    }\n",
       "\n",
       "    .dataframe thead th {\n",
       "        text-align: right;\n",
       "    }\n",
       "</style>\n",
       "<table border=\"1\" class=\"dataframe\">\n",
       "  <thead>\n",
       "    <tr style=\"text-align: right;\">\n",
       "      <th></th>\n",
       "      <th>Date</th>\n",
       "      <th>State Bottle Retail</th>\n",
       "      <th>State Bottle Cost</th>\n",
       "      <th>Bottles Sold</th>\n",
       "      <th>State Bottle Margin</th>\n",
       "      <th>Total Margin</th>\n",
       "    </tr>\n",
       "  </thead>\n",
       "  <tbody>\n",
       "    <tr>\n",
       "      <th>978</th>\n",
       "      <td>2020-09-01 00:00:00</td>\n",
       "      <td>6.0</td>\n",
       "      <td>4.0</td>\n",
       "      <td>12</td>\n",
       "      <td>2.0</td>\n",
       "      <td>24.0</td>\n",
       "    </tr>\n",
       "    <tr>\n",
       "      <th>981</th>\n",
       "      <td>2020-09-08 00:00:00</td>\n",
       "      <td>6.0</td>\n",
       "      <td>4.0</td>\n",
       "      <td>24</td>\n",
       "      <td>2.0</td>\n",
       "      <td>48.0</td>\n",
       "    </tr>\n",
       "    <tr>\n",
       "      <th>982</th>\n",
       "      <td>2020-09-08 00:00:00</td>\n",
       "      <td>6.0</td>\n",
       "      <td>4.0</td>\n",
       "      <td>12</td>\n",
       "      <td>2.0</td>\n",
       "      <td>24.0</td>\n",
       "    </tr>\n",
       "    <tr>\n",
       "      <th>983</th>\n",
       "      <td>2020-09-09 00:00:00</td>\n",
       "      <td>6.0</td>\n",
       "      <td>4.0</td>\n",
       "      <td>12</td>\n",
       "      <td>2.0</td>\n",
       "      <td>24.0</td>\n",
       "    </tr>\n",
       "    <tr>\n",
       "      <th>985</th>\n",
       "      <td>2020-09-14 00:00:00</td>\n",
       "      <td>6.0</td>\n",
       "      <td>4.0</td>\n",
       "      <td>12</td>\n",
       "      <td>2.0</td>\n",
       "      <td>24.0</td>\n",
       "    </tr>\n",
       "    <tr>\n",
       "      <th>988</th>\n",
       "      <td>2020-09-16 00:00:00</td>\n",
       "      <td>6.0</td>\n",
       "      <td>4.0</td>\n",
       "      <td>12</td>\n",
       "      <td>2.0</td>\n",
       "      <td>24.0</td>\n",
       "    </tr>\n",
       "    <tr>\n",
       "      <th>990</th>\n",
       "      <td>2020-09-16 00:00:00</td>\n",
       "      <td>6.0</td>\n",
       "      <td>4.0</td>\n",
       "      <td>12</td>\n",
       "      <td>2.0</td>\n",
       "      <td>24.0</td>\n",
       "    </tr>\n",
       "    <tr>\n",
       "      <th>991</th>\n",
       "      <td>2020-09-17 00:00:00</td>\n",
       "      <td>6.0</td>\n",
       "      <td>4.0</td>\n",
       "      <td>24</td>\n",
       "      <td>2.0</td>\n",
       "      <td>48.0</td>\n",
       "    </tr>\n",
       "    <tr>\n",
       "      <th>992</th>\n",
       "      <td>2020-09-17 00:00:00</td>\n",
       "      <td>6.0</td>\n",
       "      <td>4.0</td>\n",
       "      <td>36</td>\n",
       "      <td>2.0</td>\n",
       "      <td>72.0</td>\n",
       "    </tr>\n",
       "    <tr>\n",
       "      <th>995</th>\n",
       "      <td>2020-09-17 00:00:00</td>\n",
       "      <td>6.0</td>\n",
       "      <td>4.0</td>\n",
       "      <td>2</td>\n",
       "      <td>2.0</td>\n",
       "      <td>4.0</td>\n",
       "    </tr>\n",
       "    <tr>\n",
       "      <th>997</th>\n",
       "      <td>2020-09-17 00:00:00</td>\n",
       "      <td>6.0</td>\n",
       "      <td>4.0</td>\n",
       "      <td>12</td>\n",
       "      <td>2.0</td>\n",
       "      <td>24.0</td>\n",
       "    </tr>\n",
       "    <tr>\n",
       "      <th>1002</th>\n",
       "      <td>2020-09-23 00:00:00</td>\n",
       "      <td>6.0</td>\n",
       "      <td>4.0</td>\n",
       "      <td>12</td>\n",
       "      <td>2.0</td>\n",
       "      <td>24.0</td>\n",
       "    </tr>\n",
       "    <tr>\n",
       "      <th>1003</th>\n",
       "      <td>2020-09-24 00:00:00</td>\n",
       "      <td>6.0</td>\n",
       "      <td>4.0</td>\n",
       "      <td>24</td>\n",
       "      <td>2.0</td>\n",
       "      <td>48.0</td>\n",
       "    </tr>\n",
       "    <tr>\n",
       "      <th>1004</th>\n",
       "      <td>2020-09-24 00:00:00</td>\n",
       "      <td>6.0</td>\n",
       "      <td>4.0</td>\n",
       "      <td>12</td>\n",
       "      <td>2.0</td>\n",
       "      <td>24.0</td>\n",
       "    </tr>\n",
       "    <tr>\n",
       "      <th>1009</th>\n",
       "      <td>2020-09-30 00:00:00</td>\n",
       "      <td>6.0</td>\n",
       "      <td>4.0</td>\n",
       "      <td>12</td>\n",
       "      <td>2.0</td>\n",
       "      <td>24.0</td>\n",
       "    </tr>\n",
       "    <tr>\n",
       "      <th>1010</th>\n",
       "      <td>2020-09-30 00:00:00</td>\n",
       "      <td>6.0</td>\n",
       "      <td>4.0</td>\n",
       "      <td>12</td>\n",
       "      <td>2.0</td>\n",
       "      <td>24.0</td>\n",
       "    </tr>\n",
       "  </tbody>\n",
       "</table>\n",
       "</div>"
      ],
      "text/plain": [
       "                     Date  State Bottle Retail  State Bottle Cost  \\\n",
       "978   2020-09-01 00:00:00                  6.0                4.0   \n",
       "981   2020-09-08 00:00:00                  6.0                4.0   \n",
       "982   2020-09-08 00:00:00                  6.0                4.0   \n",
       "983   2020-09-09 00:00:00                  6.0                4.0   \n",
       "985   2020-09-14 00:00:00                  6.0                4.0   \n",
       "988   2020-09-16 00:00:00                  6.0                4.0   \n",
       "990   2020-09-16 00:00:00                  6.0                4.0   \n",
       "991   2020-09-17 00:00:00                  6.0                4.0   \n",
       "992   2020-09-17 00:00:00                  6.0                4.0   \n",
       "995   2020-09-17 00:00:00                  6.0                4.0   \n",
       "997   2020-09-17 00:00:00                  6.0                4.0   \n",
       "1002  2020-09-23 00:00:00                  6.0                4.0   \n",
       "1003  2020-09-24 00:00:00                  6.0                4.0   \n",
       "1004  2020-09-24 00:00:00                  6.0                4.0   \n",
       "1009  2020-09-30 00:00:00                  6.0                4.0   \n",
       "1010  2020-09-30 00:00:00                  6.0                4.0   \n",
       "\n",
       "      Bottles Sold  State Bottle Margin  Total Margin  \n",
       "978             12                  2.0          24.0  \n",
       "981             24                  2.0          48.0  \n",
       "982             12                  2.0          24.0  \n",
       "983             12                  2.0          24.0  \n",
       "985             12                  2.0          24.0  \n",
       "988             12                  2.0          24.0  \n",
       "990             12                  2.0          24.0  \n",
       "991             24                  2.0          48.0  \n",
       "992             36                  2.0          72.0  \n",
       "995              2                  2.0           4.0  \n",
       "997             12                  2.0          24.0  \n",
       "1002            12                  2.0          24.0  \n",
       "1003            24                  2.0          48.0  \n",
       "1004            12                  2.0          24.0  \n",
       "1009            12                  2.0          24.0  \n",
       "1010            12                  2.0          24.0  "
      ]
     },
     "execution_count": 25,
     "metadata": {},
     "output_type": "execute_result"
    }
   ],
   "source": [
    "Real_Observation_with_Optimal_Price_for_same_cost['State Bottle Margin'] = Real_Observation_with_Optimal_Price_for_same_cost['State Bottle Retail'] - Real_Observation_with_Optimal_Price_for_same_cost['State Bottle Cost']\n",
    "Real_Observation_with_Optimal_Price_for_same_cost['Total Margin'] = Real_Observation_with_Optimal_Price_for_same_cost['State Bottle Margin'] * Real_Observation_with_Optimal_Price_for_same_cost['Bottles Sold']\n",
    "Real_Observation_with_Optimal_Price_for_same_cost.sort_values('Date')"
   ]
  },
  {
   "cell_type": "code",
   "execution_count": 26,
   "metadata": {},
   "outputs": [
    {
     "data": {
      "text/html": [
       "<div>\n",
       "<style scoped>\n",
       "    .dataframe tbody tr th:only-of-type {\n",
       "        vertical-align: middle;\n",
       "    }\n",
       "\n",
       "    .dataframe tbody tr th {\n",
       "        vertical-align: top;\n",
       "    }\n",
       "\n",
       "    .dataframe thead th {\n",
       "        text-align: right;\n",
       "    }\n",
       "</style>\n",
       "<table border=\"1\" class=\"dataframe\">\n",
       "  <thead>\n",
       "    <tr style=\"text-align: right;\">\n",
       "      <th></th>\n",
       "      <th>State Bottle Retail</th>\n",
       "      <th>State Bottle Cost</th>\n",
       "      <th>Bottles Sold</th>\n",
       "      <th>State Bottle Margin</th>\n",
       "      <th>Total Margin</th>\n",
       "    </tr>\n",
       "  </thead>\n",
       "  <tbody>\n",
       "    <tr>\n",
       "      <th>count</th>\n",
       "      <td>16.0</td>\n",
       "      <td>16.0</td>\n",
       "      <td>16.000000</td>\n",
       "      <td>16.0</td>\n",
       "      <td>16.000000</td>\n",
       "    </tr>\n",
       "    <tr>\n",
       "      <th>mean</th>\n",
       "      <td>6.0</td>\n",
       "      <td>4.0</td>\n",
       "      <td>15.125000</td>\n",
       "      <td>2.0</td>\n",
       "      <td>30.250000</td>\n",
       "    </tr>\n",
       "    <tr>\n",
       "      <th>std</th>\n",
       "      <td>0.0</td>\n",
       "      <td>0.0</td>\n",
       "      <td>7.965551</td>\n",
       "      <td>0.0</td>\n",
       "      <td>15.931102</td>\n",
       "    </tr>\n",
       "    <tr>\n",
       "      <th>min</th>\n",
       "      <td>6.0</td>\n",
       "      <td>4.0</td>\n",
       "      <td>2.000000</td>\n",
       "      <td>2.0</td>\n",
       "      <td>4.000000</td>\n",
       "    </tr>\n",
       "    <tr>\n",
       "      <th>25%</th>\n",
       "      <td>6.0</td>\n",
       "      <td>4.0</td>\n",
       "      <td>12.000000</td>\n",
       "      <td>2.0</td>\n",
       "      <td>24.000000</td>\n",
       "    </tr>\n",
       "    <tr>\n",
       "      <th>50%</th>\n",
       "      <td>6.0</td>\n",
       "      <td>4.0</td>\n",
       "      <td>12.000000</td>\n",
       "      <td>2.0</td>\n",
       "      <td>24.000000</td>\n",
       "    </tr>\n",
       "    <tr>\n",
       "      <th>75%</th>\n",
       "      <td>6.0</td>\n",
       "      <td>4.0</td>\n",
       "      <td>15.000000</td>\n",
       "      <td>2.0</td>\n",
       "      <td>30.000000</td>\n",
       "    </tr>\n",
       "    <tr>\n",
       "      <th>max</th>\n",
       "      <td>6.0</td>\n",
       "      <td>4.0</td>\n",
       "      <td>36.000000</td>\n",
       "      <td>2.0</td>\n",
       "      <td>72.000000</td>\n",
       "    </tr>\n",
       "  </tbody>\n",
       "</table>\n",
       "</div>"
      ],
      "text/plain": [
       "       State Bottle Retail  State Bottle Cost  Bottles Sold  \\\n",
       "count                 16.0               16.0     16.000000   \n",
       "mean                   6.0                4.0     15.125000   \n",
       "std                    0.0                0.0      7.965551   \n",
       "min                    6.0                4.0      2.000000   \n",
       "25%                    6.0                4.0     12.000000   \n",
       "50%                    6.0                4.0     12.000000   \n",
       "75%                    6.0                4.0     15.000000   \n",
       "max                    6.0                4.0     36.000000   \n",
       "\n",
       "       State Bottle Margin  Total Margin  \n",
       "count                 16.0     16.000000  \n",
       "mean                   2.0     30.250000  \n",
       "std                    0.0     15.931102  \n",
       "min                    2.0      4.000000  \n",
       "25%                    2.0     24.000000  \n",
       "50%                    2.0     24.000000  \n",
       "75%                    2.0     30.000000  \n",
       "max                    2.0     72.000000  "
      ]
     },
     "execution_count": 26,
     "metadata": {},
     "output_type": "execute_result"
    }
   ],
   "source": [
    "Real_Observation_with_Optimal_Price_for_same_cost.describe()"
   ]
  },
  {
   "cell_type": "markdown",
   "metadata": {},
   "source": [
    "# Thus, we can conclude that for a cost of 4 , price must be increased from 6 to 9.61 for optimal margin (38) that would exceed current median margin (24) by about 60%"
   ]
  },
  {
   "cell_type": "markdown",
   "metadata": {},
   "source": []
  }
 ],
 "metadata": {
  "kernelspec": {
   "display_name": "Python 3",
   "language": "python",
   "name": "python3"
  },
  "language_info": {
   "codemirror_mode": {
    "name": "ipython",
    "version": 3
   },
   "file_extension": ".py",
   "mimetype": "text/x-python",
   "name": "python",
   "nbconvert_exporter": "python",
   "pygments_lexer": "ipython3",
   "version": "3.11.9"
  }
 },
 "nbformat": 4,
 "nbformat_minor": 2
}
